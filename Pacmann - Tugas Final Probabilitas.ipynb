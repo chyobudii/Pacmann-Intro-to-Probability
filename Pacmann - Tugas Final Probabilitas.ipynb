{
 "cells": [
  {
   "cell_type": "markdown",
   "id": "68de435f",
   "metadata": {},
   "source": [
    "# Descriptive Statistics Analyses"
   ]
  },
  {
   "cell_type": "code",
   "execution_count": 1,
   "id": "f39fd728",
   "metadata": {},
   "outputs": [],
   "source": [
    "import pandas as pd\n",
    "import numpy as np\n",
    "import matplotlib.pyplot as plt\n",
    "import seaborn as sns"
   ]
  },
  {
   "cell_type": "code",
   "execution_count": 2,
   "id": "8453590b",
   "metadata": {},
   "outputs": [],
   "source": [
    "insurance = pd.read_csv('D:/PACMANN AI/Tugas Akhir/Tugas Akhir Aug - Oct/Final Project Prob/insurance.csv')"
   ]
  },
  {
   "cell_type": "code",
   "execution_count": 3,
   "id": "63d56a64",
   "metadata": {
    "scrolled": true
   },
   "outputs": [
    {
     "data": {
      "text/html": [
       "<div>\n",
       "<style scoped>\n",
       "    .dataframe tbody tr th:only-of-type {\n",
       "        vertical-align: middle;\n",
       "    }\n",
       "\n",
       "    .dataframe tbody tr th {\n",
       "        vertical-align: top;\n",
       "    }\n",
       "\n",
       "    .dataframe thead th {\n",
       "        text-align: right;\n",
       "    }\n",
       "</style>\n",
       "<table border=\"1\" class=\"dataframe\">\n",
       "  <thead>\n",
       "    <tr style=\"text-align: right;\">\n",
       "      <th></th>\n",
       "      <th>age</th>\n",
       "      <th>sex</th>\n",
       "      <th>bmi</th>\n",
       "      <th>children</th>\n",
       "      <th>smoker</th>\n",
       "      <th>region</th>\n",
       "      <th>charges</th>\n",
       "    </tr>\n",
       "  </thead>\n",
       "  <tbody>\n",
       "    <tr>\n",
       "      <th>0</th>\n",
       "      <td>19</td>\n",
       "      <td>female</td>\n",
       "      <td>27.900</td>\n",
       "      <td>0</td>\n",
       "      <td>yes</td>\n",
       "      <td>southwest</td>\n",
       "      <td>16884.92400</td>\n",
       "    </tr>\n",
       "    <tr>\n",
       "      <th>1</th>\n",
       "      <td>18</td>\n",
       "      <td>male</td>\n",
       "      <td>33.770</td>\n",
       "      <td>1</td>\n",
       "      <td>no</td>\n",
       "      <td>southeast</td>\n",
       "      <td>1725.55230</td>\n",
       "    </tr>\n",
       "    <tr>\n",
       "      <th>2</th>\n",
       "      <td>28</td>\n",
       "      <td>male</td>\n",
       "      <td>33.000</td>\n",
       "      <td>3</td>\n",
       "      <td>no</td>\n",
       "      <td>southeast</td>\n",
       "      <td>4449.46200</td>\n",
       "    </tr>\n",
       "    <tr>\n",
       "      <th>3</th>\n",
       "      <td>33</td>\n",
       "      <td>male</td>\n",
       "      <td>22.705</td>\n",
       "      <td>0</td>\n",
       "      <td>no</td>\n",
       "      <td>northwest</td>\n",
       "      <td>21984.47061</td>\n",
       "    </tr>\n",
       "    <tr>\n",
       "      <th>4</th>\n",
       "      <td>32</td>\n",
       "      <td>male</td>\n",
       "      <td>28.880</td>\n",
       "      <td>0</td>\n",
       "      <td>no</td>\n",
       "      <td>northwest</td>\n",
       "      <td>3866.85520</td>\n",
       "    </tr>\n",
       "  </tbody>\n",
       "</table>\n",
       "</div>"
      ],
      "text/plain": [
       "   age     sex     bmi  children smoker     region      charges\n",
       "0   19  female  27.900         0    yes  southwest  16884.92400\n",
       "1   18    male  33.770         1     no  southeast   1725.55230\n",
       "2   28    male  33.000         3     no  southeast   4449.46200\n",
       "3   33    male  22.705         0     no  northwest  21984.47061\n",
       "4   32    male  28.880         0     no  northwest   3866.85520"
      ]
     },
     "execution_count": 3,
     "metadata": {},
     "output_type": "execute_result"
    }
   ],
   "source": [
    "insurance.head()"
   ]
  },
  {
   "cell_type": "code",
   "execution_count": 4,
   "id": "314642ba",
   "metadata": {},
   "outputs": [
    {
     "name": "stdout",
     "output_type": "stream",
     "text": [
      "Rata-rata umur pengguna asuransi: 39\n"
     ]
    }
   ],
   "source": [
    "# Rata-rata umur pengguna asuransi\n",
    "avg_age = np.mean(insurance['age'])\n",
    "print(f\"Rata-rata umur pengguna asuransi: {avg_age:.0f}\")"
   ]
  },
  {
   "cell_type": "code",
   "execution_count": 5,
   "id": "d06a3450",
   "metadata": {},
   "outputs": [
    {
     "name": "stdout",
     "output_type": "stream",
     "text": [
      "Rata-rata BMI perokok: 30.71\n",
      "Rata-rata BMI bukan perokok: 30.65\n"
     ]
    }
   ],
   "source": [
    "# Statement untuk perokok\n",
    "smoker = insurance['smoker'] == 'yes'\n",
    "\n",
    "# Rata-rata bmi pengguna asuransi yang perokok\n",
    "avg_bmi_smokers = np.mean(insurance['bmi'][smoker])\n",
    "avg_bmi_nonsmokers = np.mean(insurance['bmi'][~smoker])\n",
    "print(f\"Rata-rata BMI perokok: {avg_bmi_smokers:.2f}\")\n",
    "print(f\"Rata-rata BMI bukan perokok: {avg_bmi_nonsmokers:.2f}\")"
   ]
  },
  {
   "cell_type": "code",
   "execution_count": 6,
   "id": "b31f0249",
   "metadata": {},
   "outputs": [
    {
     "name": "stdout",
     "output_type": "stream",
     "text": [
      "Rata-rata tagihan perokok: 32050.23\n",
      "Rata-rata tagihan bukan perokok: 8434.27\n"
     ]
    }
   ],
   "source": [
    "# Rata-rata tagihan perokok\n",
    "avg_charges_smokers = np.mean(insurance['charges'][smoker])\n",
    "\n",
    "# Rata-rata tagihan bukan perokok\n",
    "avg_charges_nonsmokers = np.mean(insurance['charges'][~smoker])\n",
    "\n",
    "print(f\"Rata-rata tagihan perokok: {avg_charges_smokers:.2f}\")\n",
    "print(f\"Rata-rata tagihan bukan perokok: {avg_charges_nonsmokers:.2f}\")"
   ]
  },
  {
   "cell_type": "code",
   "execution_count": 7,
   "id": "a4a6e9f7",
   "metadata": {},
   "outputs": [
    {
     "name": "stdout",
     "output_type": "stream",
     "text": [
      "Rata-rata BMI umur lebih dari 25 dan perokok: 30.58\n",
      "Rata-rata BMI umur lebih dari 25 dan bukan perokok: 30.93\n"
     ]
    }
   ],
   "source": [
    "# Rata-ata BMI umur di atas 25 perokok dan bukan perokok\n",
    "\n",
    "umur_25 = insurance['age'] > 25\n",
    "\n",
    "avg_bmi_25_smokers = np.mean(insurance['bmi'][smoker & umur_25])\n",
    "\n",
    "avg_bmi_25_nonsmokers = np.mean(insurance['bmi'][~smoker & umur_25])\n",
    "\n",
    "print(f\"Rata-rata BMI umur lebih dari 25 dan perokok: {avg_bmi_25_smokers:.2f}\")\n",
    "print(f\"Rata-rata BMI umur lebih dari 25 dan bukan perokok: {avg_bmi_25_nonsmokers:.2f}\")"
   ]
  },
  {
   "cell_type": "code",
   "execution_count": 8,
   "id": "4ba470e9",
   "metadata": {},
   "outputs": [
    {
     "name": "stdout",
     "output_type": "stream",
     "text": [
      "Rata-rata BMI pria: 30.94\n",
      "Rata-rata BMI wanita: 30.38\n"
     ]
    }
   ],
   "source": [
    "male = insurance['sex'] == 'male'\n",
    "\n",
    "# Rata-rata BMI pria\n",
    "avg_bmi_male = np.mean(insurance['bmi'][male])\n",
    "avg_bmi_female = np.mean(insurance['bmi'][~male])\n",
    "\n",
    "print(f\"Rata-rata BMI pria: {avg_bmi_male:.2f}\")\n",
    "print(f\"Rata-rata BMI wanita: {avg_bmi_female:.2f}\")"
   ]
  },
  {
   "cell_type": "markdown",
   "id": "a062684b",
   "metadata": {},
   "source": [
    " "
   ]
  },
  {
   "cell_type": "markdown",
   "id": "ee7fccd8",
   "metadata": {},
   "source": [
    "# Categorical Variable Analyses"
   ]
  },
  {
   "cell_type": "code",
   "execution_count": 9,
   "id": "2e3ef17d",
   "metadata": {},
   "outputs": [
    {
     "name": "stdout",
     "output_type": "stream",
     "text": [
      "Pengeluaran tertinggi pria: 62592.87309\n",
      "Pengeluaran tertinggi wanita: 63770.42801\n"
     ]
    }
   ],
   "source": [
    "# Pengeluaran tertinggi berdasarkan jenis kelamin\n",
    "max_male_charge = np.max(insurance['charges'][male])\n",
    "max_female_charge = np.max(insurance['charges'][~male])\n",
    "\n",
    "print(f\"Pengeluaran tertinggi pria: {max_male_charge}\")\n",
    "print(f\"Pengeluaran tertinggi wanita: {max_female_charge}\")"
   ]
  },
  {
   "cell_type": "code",
   "execution_count": 64,
   "id": "748cef01",
   "metadata": {},
   "outputs": [
    {
     "name": "stdout",
     "output_type": "stream",
     "text": [
      "Persentasi data total perokok: 20.48%\n",
      "Persentasi data total bukan perokok: 79.52%\n"
     ]
    }
   ],
   "source": [
    "# Proporsi data perokok dan bukan perokok\n",
    "p_smokers = len(insurance[smoker]) * 100/len(insurance)\n",
    "p_nonsmokers = len(insurance[~smoker]) * 100/len(insurance)\n",
    "\n",
    "print(f\"Persentasi data total perokok: {p_smokers:.2f}%\")\n",
    "print(f\"Persentasi data total bukan perokok: {p_nonsmokers:.2f}%\")"
   ]
  },
  {
   "cell_type": "code",
   "execution_count": 11,
   "id": "406f4f65",
   "metadata": {},
   "outputs": [
    {
     "name": "stdout",
     "output_type": "stream",
     "text": [
      "Peluang pria perokok: 0.58\n",
      "Peluang wanita perokok: 0.42\n"
     ]
    }
   ],
   "source": [
    "# Peluang berdasarkan jenis kelamin\n",
    "\n",
    "n_smokers = len(insurance[smoker])\n",
    "\n",
    "p_male_smoker = len(insurance[smoker & male])/len(insurance[smoker])\n",
    "\n",
    "p_female_smoker = len(insurance[smoker & ~male])/len(insurance[smoker])\n",
    "\n",
    "print(f\"Peluang pria perokok: {p_male_smoker:.2f}\")\n",
    "print(f\"Peluang wanita perokok: {p_female_smoker:.2f}\")"
   ]
  },
  {
   "cell_type": "code",
   "execution_count": 67,
   "id": "bb4d5902",
   "metadata": {},
   "outputs": [
    {
     "data": {
      "image/png": "[encoded data removed]",
      "text/plain": [
       "<Figure size 432x288 with 1 Axes>"
      ]
     },
     "metadata": {
      "needs_background": "light"
     },
     "output_type": "display_data"
    }
   ],
   "source": [
    "# Distribusi tiap-tiap region\n",
    "\n",
    "sns.histplot(data=insurance, x='region', hue='region', palette='bright')\n",
    "plt.title('Data setiap region')\n",
    "plt.show()"
   ]
  },
  {
   "cell_type": "code",
   "execution_count": 13,
   "id": "c292662c",
   "metadata": {},
   "outputs": [
    {
     "data": {
      "image/png": "[encoded data removed]",
      "text/plain": [
       "<Figure size 432x288 with 1 Axes>"
      ]
     },
     "metadata": {
      "needs_background": "light"
     },
     "output_type": "display_data"
    }
   ],
   "source": [
    "# Distribusi pengeluaran tiap region\n",
    "\n",
    "sns.histplot(data=insurance, x='charges', hue='region', kde=True)\n",
    "plt.title('Distribusi pengeluaran tiap region')\n",
    "plt.show()"
   ]
  },
  {
   "cell_type": "markdown",
   "id": "cfca9c5d",
   "metadata": {},
   "source": [
    " "
   ]
  },
  {
   "cell_type": "markdown",
   "id": "06c5fddf",
   "metadata": {},
   "source": [
    "# Continuous Variable Analysis"
   ]
  },
  {
   "cell_type": "code",
   "execution_count": 14,
   "id": "e468ee77",
   "metadata": {},
   "outputs": [
    {
     "data": {
      "image/png": "[encoded data removed]",
      "text/plain": [
       "<Figure size 432x288 with 1 Axes>"
      ]
     },
     "metadata": {
      "needs_background": "light"
     },
     "output_type": "display_data"
    }
   ],
   "source": [
    "# Peluang besar tagihan berdasarkan BMI\n",
    "\n",
    "sns.histplot(data=insurance, x='bmi', y='charges')\n",
    "plt.axhline(y=10000, color='red')\n",
    "plt.axvline(x=25, color='red')\n",
    "plt.axvline(x=35, color='red')\n",
    "plt.show()"
   ]
  },
  {
   "cell_type": "code",
   "execution_count": 15,
   "id": "bacffaca",
   "metadata": {},
   "outputs": [
    {
     "data": {
      "image/png": "[encoded data removed]",
      "text/plain": [
       "<Figure size 432x288 with 1 Axes>"
      ]
     },
     "metadata": {
      "needs_background": "light"
     },
     "output_type": "display_data"
    }
   ],
   "source": [
    "# Peluang besar tagihan berdasarkan BMI\n",
    "\n",
    "sns.histplot(data=insurance, x='bmi', y='charges')\n",
    "plt.title('BMI 25-35 yang membayar kurang dari 10000')\n",
    "plt.axhline(y=10000, color='red')\n",
    "plt.axvline(x=25, color='red')\n",
    "plt.axvline(x=35, color='red')\n",
    "plt.show()"
   ]
  },
  {
   "cell_type": "code",
   "execution_count": 16,
   "id": "02842ef6",
   "metadata": {},
   "outputs": [],
   "source": [
    "# Peluang perokok dengan BMI lebih dari 25 dan pengeluaran tagihan lebih dari 16700\n",
    "\n",
    "bmi_over_25 = insurance['bmi'] > 25\n",
    "charged_167k = insurance['charges'] > 16700"
   ]
  },
  {
   "cell_type": "code",
   "execution_count": 17,
   "id": "39232c85",
   "metadata": {},
   "outputs": [
    {
     "name": "stdout",
     "output_type": "stream",
     "text": [
      "Peluang perokok dengan BMI lebih dari 25 dan pengeluaran tagihan lebih dari 16700: 0.98\n"
     ]
    }
   ],
   "source": [
    "n_Y_Z = len(insurance[bmi_over_25 & smoker])\n",
    "n_X_Y_Z = len(insurance[charged_167k & bmi_over_25 & smoker])\n",
    "\n",
    "# Peluang dari event\n",
    "p_X_given_Y_Z = n_X_Y_Z/n_Y_Z\n",
    "\n",
    "print(f\"Peluang perokok dengan BMI lebih dari 25 dan pengeluaran tagihan lebih dari 16700: {p_X_given_Y_Z:.2f}\")"
   ]
  },
  {
   "cell_type": "code",
   "execution_count": 18,
   "id": "784f0aa2",
   "metadata": {},
   "outputs": [],
   "source": [
    "# Peluang acak perokok dengan tagihan lebih dari 16700\n",
    "n_Z = len(insurance[smoker])\n",
    "n_X_Z = len(insurance[charged_167k & smoker])"
   ]
  },
  {
   "cell_type": "code",
   "execution_count": 19,
   "id": "aaed18af",
   "metadata": {},
   "outputs": [
    {
     "name": "stdout",
     "output_type": "stream",
     "text": [
      "Peluang acak perokok dengan tagihan lebih dari 16700: 0.93\n"
     ]
    }
   ],
   "source": [
    "p_X_given_Z = n_X_Z/n_Z\n",
    "\n",
    "print(f\"Peluang acak perokok dengan tagihan lebih dari 16700: {p_X_given_Z:.2f}\")"
   ]
  },
  {
   "cell_type": "code",
   "execution_count": 20,
   "id": "69fcf75e",
   "metadata": {},
   "outputs": [],
   "source": [
    "# BMI lebih dari 25 dan tagihan lebih dari 16700\n",
    "n_Y = len(insurance[bmi_over_25])\n",
    "n_X_Y = len(insurance[bmi_over_25 & charged_167k])"
   ]
  },
  {
   "cell_type": "code",
   "execution_count": 21,
   "id": "18f2ea1f",
   "metadata": {},
   "outputs": [
    {
     "name": "stdout",
     "output_type": "stream",
     "text": [
      "Peluang seorang dengan BMI lebih dari 25 dan membayar lebih dari 16.7k: 0.26\n"
     ]
    }
   ],
   "source": [
    "p_X_given_Y = n_X_Y/n_Y\n",
    "\n",
    "print(f\"Peluang seorang dengan BMI lebih dari 25 dan membayar lebih dari 16.7k: {p_X_given_Y:.2f}\")"
   ]
  },
  {
   "cell_type": "code",
   "execution_count": 22,
   "id": "75ff0b1d",
   "metadata": {},
   "outputs": [],
   "source": [
    "# BMI kurang dari 25 tagihan lebih dari 16.7k\n",
    "n_Y = len(insurance[~bmi_over_25])\n",
    "n_X_Y = len(insurance[~bmi_over_25 & charged_167k])"
   ]
  },
  {
   "cell_type": "code",
   "execution_count": 23,
   "id": "e7c57dbc",
   "metadata": {},
   "outputs": [
    {
     "name": "stdout",
     "output_type": "stream",
     "text": [
      "Peluang seorang dengan BMI kurang dari 25 dan membayar lebih dari 16.7k: 0.21\n"
     ]
    }
   ],
   "source": [
    "p_X_given_Y = n_X_Y/n_Y\n",
    "\n",
    "print(f\"Peluang seorang dengan BMI kurang dari 25 dan membayar lebih dari 16.7k: {p_X_given_Y:.2f}\")"
   ]
  },
  {
   "cell_type": "code",
   "execution_count": 24,
   "id": "dbb2912a",
   "metadata": {},
   "outputs": [],
   "source": [
    "# Perokok dengan BMI lebih dari 25 dan membayar lebih dari 16700\n",
    "n_X_Y_Z1 = len(insurance[charged_167k & bmi_over_25 & smoker])\n",
    "n_Y_Z1 = len(insurance[bmi_over_25 & smoker])"
   ]
  },
  {
   "cell_type": "code",
   "execution_count": 25,
   "id": "10348c78",
   "metadata": {},
   "outputs": [
    {
     "name": "stdout",
     "output_type": "stream",
     "text": [
      "Peluang perokok dengan BMI lebih dari 25 dan membayar lebih dari 16700: 0.98\n"
     ]
    }
   ],
   "source": [
    "p_X_given_Y_Z1 = n_X_Y_Z1/n_Y_Z1\n",
    "\n",
    "print(f\"Peluang perokok dengan BMI lebih dari 25 dan membayar lebih dari 16700: {p_X_given_Y_Z1:.2f}\")"
   ]
  },
  {
   "cell_type": "code",
   "execution_count": 26,
   "id": "ebd7161b",
   "metadata": {},
   "outputs": [],
   "source": [
    "# Bukan perokok dengan BMI lebih dari 25 dan membayar lebih dari 16700\n",
    "n_X_Y_Z0 = len(insurance[charged_167k & bmi_over_25 & (~smoker)])\n",
    "n_Y_Z0 = len(insurance[bmi_over_25 & (~smoker)])"
   ]
  },
  {
   "cell_type": "code",
   "execution_count": 27,
   "id": "2a8f70a3",
   "metadata": {
    "scrolled": true
   },
   "outputs": [
    {
     "name": "stdout",
     "output_type": "stream",
     "text": [
      "Peluang bukan perokok dengan BMI lebih dari 25 dan membayar lebih dari 16700: 0.08\n"
     ]
    }
   ],
   "source": [
    "p_X_given_Y_Z0 = n_X_Y_Z0/n_Y_Z0\n",
    "\n",
    "print(f\"Peluang bukan perokok dengan BMI lebih dari 25 dan membayar lebih dari 16700: {p_X_given_Y_Z0:.2f}\")"
   ]
  },
  {
   "cell_type": "markdown",
   "id": "dc012256",
   "metadata": {},
   "source": [
    " "
   ]
  },
  {
   "cell_type": "markdown",
   "id": "1c9a7f3d",
   "metadata": {},
   "source": [
    "# Correlation Analyeses"
   ]
  },
  {
   "cell_type": "code",
   "execution_count": 28,
   "id": "3f9bbff0",
   "metadata": {},
   "outputs": [
    {
     "data": {
      "text/html": [
       "<div>\n",
       "<style scoped>\n",
       "    .dataframe tbody tr th:only-of-type {\n",
       "        vertical-align: middle;\n",
       "    }\n",
       "\n",
       "    .dataframe tbody tr th {\n",
       "        vertical-align: top;\n",
       "    }\n",
       "\n",
       "    .dataframe thead th {\n",
       "        text-align: right;\n",
       "    }\n",
       "</style>\n",
       "<table border=\"1\" class=\"dataframe\">\n",
       "  <thead>\n",
       "    <tr style=\"text-align: right;\">\n",
       "      <th></th>\n",
       "      <th>age</th>\n",
       "      <th>sex</th>\n",
       "      <th>bmi</th>\n",
       "      <th>children</th>\n",
       "      <th>smoker</th>\n",
       "      <th>region</th>\n",
       "      <th>charges</th>\n",
       "    </tr>\n",
       "  </thead>\n",
       "  <tbody>\n",
       "    <tr>\n",
       "      <th>0</th>\n",
       "      <td>19</td>\n",
       "      <td>female</td>\n",
       "      <td>27.900</td>\n",
       "      <td>0</td>\n",
       "      <td>yes</td>\n",
       "      <td>southwest</td>\n",
       "      <td>16884.92400</td>\n",
       "    </tr>\n",
       "    <tr>\n",
       "      <th>1</th>\n",
       "      <td>18</td>\n",
       "      <td>male</td>\n",
       "      <td>33.770</td>\n",
       "      <td>1</td>\n",
       "      <td>no</td>\n",
       "      <td>southeast</td>\n",
       "      <td>1725.55230</td>\n",
       "    </tr>\n",
       "    <tr>\n",
       "      <th>2</th>\n",
       "      <td>28</td>\n",
       "      <td>male</td>\n",
       "      <td>33.000</td>\n",
       "      <td>3</td>\n",
       "      <td>no</td>\n",
       "      <td>southeast</td>\n",
       "      <td>4449.46200</td>\n",
       "    </tr>\n",
       "    <tr>\n",
       "      <th>3</th>\n",
       "      <td>33</td>\n",
       "      <td>male</td>\n",
       "      <td>22.705</td>\n",
       "      <td>0</td>\n",
       "      <td>no</td>\n",
       "      <td>northwest</td>\n",
       "      <td>21984.47061</td>\n",
       "    </tr>\n",
       "    <tr>\n",
       "      <th>4</th>\n",
       "      <td>32</td>\n",
       "      <td>male</td>\n",
       "      <td>28.880</td>\n",
       "      <td>0</td>\n",
       "      <td>no</td>\n",
       "      <td>northwest</td>\n",
       "      <td>3866.85520</td>\n",
       "    </tr>\n",
       "  </tbody>\n",
       "</table>\n",
       "</div>"
      ],
      "text/plain": [
       "   age     sex     bmi  children smoker     region      charges\n",
       "0   19  female  27.900         0    yes  southwest  16884.92400\n",
       "1   18    male  33.770         1     no  southeast   1725.55230\n",
       "2   28    male  33.000         3     no  southeast   4449.46200\n",
       "3   33    male  22.705         0     no  northwest  21984.47061\n",
       "4   32    male  28.880         0     no  northwest   3866.85520"
      ]
     },
     "execution_count": 28,
     "metadata": {},
     "output_type": "execute_result"
    }
   ],
   "source": [
    "insurance.head()"
   ]
  },
  {
   "cell_type": "code",
   "execution_count": 29,
   "id": "5ab67314",
   "metadata": {
    "scrolled": true
   },
   "outputs": [
    {
     "data": {
      "text/html": [
       "<div>\n",
       "<style scoped>\n",
       "    .dataframe tbody tr th:only-of-type {\n",
       "        vertical-align: middle;\n",
       "    }\n",
       "\n",
       "    .dataframe tbody tr th {\n",
       "        vertical-align: top;\n",
       "    }\n",
       "\n",
       "    .dataframe thead th {\n",
       "        text-align: right;\n",
       "    }\n",
       "</style>\n",
       "<table border=\"1\" class=\"dataframe\">\n",
       "  <thead>\n",
       "    <tr style=\"text-align: right;\">\n",
       "      <th></th>\n",
       "      <th>age</th>\n",
       "      <th>bmi</th>\n",
       "      <th>children</th>\n",
       "      <th>charges</th>\n",
       "    </tr>\n",
       "  </thead>\n",
       "  <tbody>\n",
       "    <tr>\n",
       "      <th>age</th>\n",
       "      <td>1.000000</td>\n",
       "      <td>0.109272</td>\n",
       "      <td>0.042469</td>\n",
       "      <td>0.299008</td>\n",
       "    </tr>\n",
       "    <tr>\n",
       "      <th>bmi</th>\n",
       "      <td>0.109272</td>\n",
       "      <td>1.000000</td>\n",
       "      <td>0.012759</td>\n",
       "      <td>0.198341</td>\n",
       "    </tr>\n",
       "    <tr>\n",
       "      <th>children</th>\n",
       "      <td>0.042469</td>\n",
       "      <td>0.012759</td>\n",
       "      <td>1.000000</td>\n",
       "      <td>0.067998</td>\n",
       "    </tr>\n",
       "    <tr>\n",
       "      <th>charges</th>\n",
       "      <td>0.299008</td>\n",
       "      <td>0.198341</td>\n",
       "      <td>0.067998</td>\n",
       "      <td>1.000000</td>\n",
       "    </tr>\n",
       "  </tbody>\n",
       "</table>\n",
       "</div>"
      ],
      "text/plain": [
       "               age       bmi  children   charges\n",
       "age       1.000000  0.109272  0.042469  0.299008\n",
       "bmi       0.109272  1.000000  0.012759  0.198341\n",
       "children  0.042469  0.012759  1.000000  0.067998\n",
       "charges   0.299008  0.198341  0.067998  1.000000"
      ]
     },
     "execution_count": 29,
     "metadata": {},
     "output_type": "execute_result"
    }
   ],
   "source": [
    "# Correlation\n",
    "insurance.corr()"
   ]
  },
  {
   "cell_type": "code",
   "execution_count": 30,
   "id": "29d21d7e",
   "metadata": {
    "scrolled": true
   },
   "outputs": [
    {
     "name": "stdout",
     "output_type": "stream",
     "text": [
      "Requirement already satisfied: statistics in c:\\users\\c\\anaconda3\\lib\\site-packages (1.0.3.5)Note: you may need to restart the kernel to use updated packages.\n",
      "Requirement already satisfied: docutils>=0.3 in c:\\users\\c\\anaconda3\\lib\\site-packages (from statistics) (0.18.1)\n",
      "\n"
     ]
    }
   ],
   "source": [
    "pip install statistics"
   ]
  },
  {
   "cell_type": "code",
   "execution_count": 35,
   "id": "ae9f9775",
   "metadata": {},
   "outputs": [],
   "source": [
    "import statistics"
   ]
  },
  {
   "cell_type": "code",
   "execution_count": 40,
   "id": "058c4f38",
   "metadata": {},
   "outputs": [
    {
     "data": {
      "image/png": "[encoded data removed]",
      "text/plain": [
       "<Figure size 432x288 with 2 Axes>"
      ]
     },
     "metadata": {
      "needs_background": "light"
     },
     "output_type": "display_data"
    }
   ],
   "source": [
    "corr = insurance.corr()\n",
    "sns.heatmap(corr, annot=True)\n",
    "plt.title('Korelasi antar variable')\n",
    "plt.show()"
   ]
  },
  {
   "cell_type": "markdown",
   "id": "aeec3f09",
   "metadata": {},
   "source": [
    "\n",
    "Hypothesis Testing\n",
    "\n",
    "Q1: Are the charges of smokers higher than that of nonsmokers?\n"
   ]
  },
  {
   "cell_type": "code",
   "execution_count": 41,
   "id": "3784d3b9",
   "metadata": {},
   "outputs": [
    {
     "data": {
      "image/png": "[encoded data removed]",
      "text/plain": [
       "<Figure size 432x288 with 1 Axes>"
      ]
     },
     "metadata": {
      "needs_background": "light"
     },
     "output_type": "display_data"
    }
   ],
   "source": [
    "sns.boxplot(data=insurance, x='smoker', y='charges')\n",
    "plt.title(\"Perokok membayar tagihan lebih mahal daripada non perokok\")\n",
    "plt.show()"
   ]
  },
  {
   "cell_type": "code",
   "execution_count": 42,
   "id": "111834ed",
   "metadata": {},
   "outputs": [],
   "source": [
    "charges_smokers = insurance['charges'][smoker]\n",
    "charges_nosmokers = insurance['charges'][~smoker]"
   ]
  },
  {
   "cell_type": "code",
   "execution_count": 51,
   "id": "eaea9aaa",
   "metadata": {},
   "outputs": [],
   "source": [
    "from scipy.stats import ttest_ind\n",
    "st, p_value = ttest_ind(a=charges_smokers, b=charges_nosmokers, equal_var=False, alternative='less')"
   ]
  },
  {
   "cell_type": "code",
   "execution_count": 44,
   "id": "a67d048e",
   "metadata": {},
   "outputs": [
    {
     "name": "stdout",
     "output_type": "stream",
     "text": [
      "Stat value: 32.751887766341824\n",
      "p-value: 1.0\n"
     ]
    }
   ],
   "source": [
    "print(f\"Stat value: {st}\")\n",
    "print(f\"p-value: {p_value}\")"
   ]
  },
  {
   "cell_type": "code",
   "execution_count": 45,
   "id": "b4b1c193",
   "metadata": {},
   "outputs": [
    {
     "data": {
      "text/html": [
       "<div>\n",
       "<style scoped>\n",
       "    .dataframe tbody tr th:only-of-type {\n",
       "        vertical-align: middle;\n",
       "    }\n",
       "\n",
       "    .dataframe tbody tr th {\n",
       "        vertical-align: top;\n",
       "    }\n",
       "\n",
       "    .dataframe thead th {\n",
       "        text-align: right;\n",
       "    }\n",
       "</style>\n",
       "<table border=\"1\" class=\"dataframe\">\n",
       "  <thead>\n",
       "    <tr style=\"text-align: right;\">\n",
       "      <th></th>\n",
       "      <th>age</th>\n",
       "      <th>sex</th>\n",
       "      <th>bmi</th>\n",
       "      <th>children</th>\n",
       "      <th>smoker</th>\n",
       "      <th>region</th>\n",
       "      <th>charges</th>\n",
       "      <th>bmi_over_25</th>\n",
       "    </tr>\n",
       "  </thead>\n",
       "  <tbody>\n",
       "    <tr>\n",
       "      <th>0</th>\n",
       "      <td>19</td>\n",
       "      <td>female</td>\n",
       "      <td>27.900</td>\n",
       "      <td>0</td>\n",
       "      <td>yes</td>\n",
       "      <td>southwest</td>\n",
       "      <td>16884.92400</td>\n",
       "      <td>yes</td>\n",
       "    </tr>\n",
       "    <tr>\n",
       "      <th>1</th>\n",
       "      <td>18</td>\n",
       "      <td>male</td>\n",
       "      <td>33.770</td>\n",
       "      <td>1</td>\n",
       "      <td>no</td>\n",
       "      <td>southeast</td>\n",
       "      <td>1725.55230</td>\n",
       "      <td>yes</td>\n",
       "    </tr>\n",
       "    <tr>\n",
       "      <th>2</th>\n",
       "      <td>28</td>\n",
       "      <td>male</td>\n",
       "      <td>33.000</td>\n",
       "      <td>3</td>\n",
       "      <td>no</td>\n",
       "      <td>southeast</td>\n",
       "      <td>4449.46200</td>\n",
       "      <td>yes</td>\n",
       "    </tr>\n",
       "    <tr>\n",
       "      <th>3</th>\n",
       "      <td>33</td>\n",
       "      <td>male</td>\n",
       "      <td>22.705</td>\n",
       "      <td>0</td>\n",
       "      <td>no</td>\n",
       "      <td>northwest</td>\n",
       "      <td>21984.47061</td>\n",
       "      <td>no</td>\n",
       "    </tr>\n",
       "    <tr>\n",
       "      <th>4</th>\n",
       "      <td>32</td>\n",
       "      <td>male</td>\n",
       "      <td>28.880</td>\n",
       "      <td>0</td>\n",
       "      <td>no</td>\n",
       "      <td>northwest</td>\n",
       "      <td>3866.85520</td>\n",
       "      <td>yes</td>\n",
       "    </tr>\n",
       "  </tbody>\n",
       "</table>\n",
       "</div>"
      ],
      "text/plain": [
       "   age     sex     bmi  children smoker     region      charges bmi_over_25\n",
       "0   19  female  27.900         0    yes  southwest  16884.92400         yes\n",
       "1   18    male  33.770         1     no  southeast   1725.55230         yes\n",
       "2   28    male  33.000         3     no  southeast   4449.46200         yes\n",
       "3   33    male  22.705         0     no  northwest  21984.47061          no\n",
       "4   32    male  28.880         0     no  northwest   3866.85520         yes"
      ]
     },
     "execution_count": 45,
     "metadata": {},
     "output_type": "execute_result"
    }
   ],
   "source": [
    "# Data yang digunakan\n",
    "insurance_mod = insurance.copy()\n",
    "insurance_mod['bmi_over_25'] = np.where(insurance['bmi'] > 25, 'yes', 'no')\n",
    "insurance_mod.head()"
   ]
  },
  {
   "cell_type": "code",
   "execution_count": 47,
   "id": "b33a4795",
   "metadata": {},
   "outputs": [
    {
     "data": {
      "image/png": "[encoded data removed]",
      "text/plain": [
       "<Figure size 432x288 with 1 Axes>"
      ]
     },
     "metadata": {
      "needs_background": "light"
     },
     "output_type": "display_data"
    }
   ],
   "source": [
    "sns.boxplot(x='bmi_over_25', y='charges', data=insurance_mod)\n",
    "plt.title('Biaya tagihan antara BMI lebih dari 25 dan kurang dari 25')\n",
    "plt.show()"
   ]
  },
  {
   "cell_type": "code",
   "execution_count": 48,
   "id": "a774137d",
   "metadata": {},
   "outputs": [],
   "source": [
    "charge_over_25 = insurance_mod['charges'][insurance_mod['bmi_over_25'] == 'yes']\n",
    "charge_less_25 = insurance_mod['charges'][insurance_mod['bmi_over_25'] == 'no']"
   ]
  },
  {
   "cell_type": "code",
   "execution_count": 49,
   "id": "a532df05",
   "metadata": {},
   "outputs": [
    {
     "name": "stdout",
     "output_type": "stream",
     "text": [
      "Varian tagihan dengan BMI lebih dari 25: 164579189.52\n",
      "Varian tagihan dengan BMI kurang dari25: 55940041.24\n"
     ]
    }
   ],
   "source": [
    "print(f\"Varian tagihan dengan BMI lebih dari 25: {np.var(charge_over_25):.2f}\")\n",
    "print(f\"Varian tagihan dengan BMI kurang dari25: {np.var(charge_less_25):.2f}\")"
   ]
  },
  {
   "cell_type": "code",
   "execution_count": 52,
   "id": "6c5db2df",
   "metadata": {},
   "outputs": [],
   "source": [
    "st, p_val = ttest_ind(a=charge_over_25, b=charge_less_25, equal_var=False, alternative='greater')"
   ]
  },
  {
   "cell_type": "code",
   "execution_count": 53,
   "id": "fabd7f68",
   "metadata": {},
   "outputs": [
    {
     "name": "stdout",
     "output_type": "stream",
     "text": [
      "Statistics value: 5.953486371741479\n",
      "p-value: 2.198585436885263e-09\n"
     ]
    }
   ],
   "source": [
    "print(f\"Statistics value: {st}\")\n",
    "print(f\"p-value: {p_val}\")"
   ]
  },
  {
   "cell_type": "code",
   "execution_count": 55,
   "id": "bd3fca02",
   "metadata": {},
   "outputs": [
    {
     "data": {
      "image/png": "[encoded data removed]",
      "text/plain": [
       "<Figure size 432x288 with 1 Axes>"
      ]
     },
     "metadata": {
      "needs_background": "light"
     },
     "output_type": "display_data"
    }
   ],
   "source": [
    "sns.boxplot(x = 'sex', y = 'bmi', data = insurance_mod)\n",
    "plt.title(\"BMI pria dan wanita\")\n",
    "plt.show()"
   ]
  },
  {
   "cell_type": "code",
   "execution_count": 60,
   "id": "d2d7dd22",
   "metadata": {},
   "outputs": [],
   "source": [
    "bmi_pria = insurance_mod['bmi'][male]\n",
    "bmi_wanita = insurance_mod['bmi'][~male]"
   ]
  },
  {
   "cell_type": "code",
   "execution_count": 61,
   "id": "cbc32498",
   "metadata": {},
   "outputs": [
    {
     "name": "stdout",
     "output_type": "stream",
     "text": [
      "Varian BMI dari pria: 37.65\n",
      "Varian BMI dari wanita: 36.50\n"
     ]
    }
   ],
   "source": [
    "print(f\"Varian BMI dari pria: {np.var(bmi_pria):.2f}\")\n",
    "print(f\"Varian BMI dari wanita: {np.var(bmi_wanita):.2f}\")"
   ]
  },
  {
   "cell_type": "code",
   "execution_count": 62,
   "id": "3366990d",
   "metadata": {},
   "outputs": [],
   "source": [
    "st, p_val = ttest_ind(a=bmi_pria, b=bmi_wanita, equal_var=True, alternative='greater')"
   ]
  },
  {
   "cell_type": "code",
   "execution_count": 63,
   "id": "012a062b",
   "metadata": {},
   "outputs": [
    {
     "name": "stdout",
     "output_type": "stream",
     "text": [
      "Stats value: 1.696752635752224\n",
      "p-value: 0.04498818589492466\n"
     ]
    }
   ],
   "source": [
    "print(f\"Stats value: {st}\")\n",
    "print(f\"p-value: {p_val}\")"
   ]
  },
  {
   "cell_type": "code",
   "execution_count": null,
   "id": "ccb1f136",
   "metadata": {},
   "outputs": [],
   "source": []
  },
  {
   "cell_type": "code",
   "execution_count": null,
   "id": "2801ed49",
   "metadata": {},
   "outputs": [],
   "source": []
  },
  {
   "cell_type": "code",
   "execution_count": null,
   "id": "2e76374d",
   "metadata": {},
   "outputs": [],
   "source": []
  },
  {
   "cell_type": "code",
   "execution_count": null,
   "id": "ecb5086b",
   "metadata": {},
   "outputs": [],
   "source": []
  },
  {
   "cell_type": "code",
   "execution_count": null,
   "id": "c241fb97",
   "metadata": {},
   "outputs": [],
   "source": []
  },
  {
   "cell_type": "code",
   "execution_count": null,
   "id": "afadce54",
   "metadata": {},
   "outputs": [],
   "source": []
  },
  {
   "cell_type": "code",
   "execution_count": null,
   "id": "519e460c",
   "metadata": {},
   "outputs": [],
   "source": []
  },
  {
   "cell_type": "code",
   "execution_count": null,
   "id": "f00a0a5e",
   "metadata": {},
   "outputs": [],
   "source": []
  }
 ],
 "metadata": {
  "kernelspec": {
   "display_name": "Python 3 (ipykernel)",
   "language": "python",
   "name": "python3"
  },
  "language_info": {
   "codemirror_mode": {
    "name": "ipython",
    "version": 3
   },
   "file_extension": ".py",
   "mimetype": "text/x-python",
   "name": "python",
   "nbconvert_exporter": "python",
   "pygments_lexer": "ipython3",
   "version": "3.9.7"
  }
 },
 "nbformat": 4,
 "nbformat_minor": 5
}
